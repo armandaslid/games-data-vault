{
 "cells": [
  {
   "cell_type": "code",
   "execution_count": null,
   "id": "1ec5588b",
   "metadata": {},
   "outputs": [
    {
     "data": {
      "text/html": [
       "<div>\n",
       "<style scoped>\n",
       "    .dataframe tbody tr th:only-of-type {\n",
       "        vertical-align: middle;\n",
       "    }\n",
       "\n",
       "    .dataframe tbody tr th {\n",
       "        vertical-align: top;\n",
       "    }\n",
       "\n",
       "    .dataframe thead th {\n",
       "        text-align: right;\n",
       "    }\n",
       "</style>\n",
       "<table border=\"1\" class=\"dataframe\">\n",
       "  <thead>\n",
       "    <tr style=\"text-align: right;\">\n",
       "      <th></th>\n",
       "      <th>Name</th>\n",
       "      <th>Platform</th>\n",
       "      <th>Year_of_Release</th>\n",
       "      <th>Genre</th>\n",
       "      <th>Publisher</th>\n",
       "      <th>NA_Sales</th>\n",
       "      <th>EU_Sales</th>\n",
       "      <th>JP_Sales</th>\n",
       "      <th>Other_Sales</th>\n",
       "      <th>Global_Sales</th>\n",
       "      <th>Critic_Score</th>\n",
       "      <th>Critic_Count</th>\n",
       "      <th>User_Score</th>\n",
       "      <th>User_Count</th>\n",
       "      <th>Developer</th>\n",
       "      <th>Rating</th>\n",
       "    </tr>\n",
       "  </thead>\n",
       "  <tbody>\n",
       "    <tr>\n",
       "      <th>0</th>\n",
       "      <td>Wii Sports</td>\n",
       "      <td>Wii</td>\n",
       "      <td>2006.0</td>\n",
       "      <td>Sports</td>\n",
       "      <td>Nintendo</td>\n",
       "      <td>41.36</td>\n",
       "      <td>28.96</td>\n",
       "      <td>3.77</td>\n",
       "      <td>8.45</td>\n",
       "      <td>82.53</td>\n",
       "      <td>76.0</td>\n",
       "      <td>51.0</td>\n",
       "      <td>8</td>\n",
       "      <td>322.0</td>\n",
       "      <td>Nintendo</td>\n",
       "      <td>E</td>\n",
       "    </tr>\n",
       "    <tr>\n",
       "      <th>1</th>\n",
       "      <td>Super Mario Bros.</td>\n",
       "      <td>NES</td>\n",
       "      <td>1985.0</td>\n",
       "      <td>Platform</td>\n",
       "      <td>Nintendo</td>\n",
       "      <td>29.08</td>\n",
       "      <td>3.58</td>\n",
       "      <td>6.81</td>\n",
       "      <td>0.77</td>\n",
       "      <td>40.24</td>\n",
       "      <td>NaN</td>\n",
       "      <td>NaN</td>\n",
       "      <td>NaN</td>\n",
       "      <td>NaN</td>\n",
       "      <td>NaN</td>\n",
       "      <td>NaN</td>\n",
       "    </tr>\n",
       "    <tr>\n",
       "      <th>2</th>\n",
       "      <td>Mario Kart Wii</td>\n",
       "      <td>Wii</td>\n",
       "      <td>2008.0</td>\n",
       "      <td>Racing</td>\n",
       "      <td>Nintendo</td>\n",
       "      <td>15.68</td>\n",
       "      <td>12.76</td>\n",
       "      <td>3.79</td>\n",
       "      <td>3.29</td>\n",
       "      <td>35.52</td>\n",
       "      <td>82.0</td>\n",
       "      <td>73.0</td>\n",
       "      <td>8.3</td>\n",
       "      <td>709.0</td>\n",
       "      <td>Nintendo</td>\n",
       "      <td>E</td>\n",
       "    </tr>\n",
       "    <tr>\n",
       "      <th>3</th>\n",
       "      <td>Wii Sports Resort</td>\n",
       "      <td>Wii</td>\n",
       "      <td>2009.0</td>\n",
       "      <td>Sports</td>\n",
       "      <td>Nintendo</td>\n",
       "      <td>15.61</td>\n",
       "      <td>10.93</td>\n",
       "      <td>3.28</td>\n",
       "      <td>2.95</td>\n",
       "      <td>32.77</td>\n",
       "      <td>80.0</td>\n",
       "      <td>73.0</td>\n",
       "      <td>8</td>\n",
       "      <td>192.0</td>\n",
       "      <td>Nintendo</td>\n",
       "      <td>E</td>\n",
       "    </tr>\n",
       "    <tr>\n",
       "      <th>4</th>\n",
       "      <td>Pokemon Red/Pokemon Blue</td>\n",
       "      <td>GB</td>\n",
       "      <td>1996.0</td>\n",
       "      <td>Role-Playing</td>\n",
       "      <td>Nintendo</td>\n",
       "      <td>11.27</td>\n",
       "      <td>8.89</td>\n",
       "      <td>10.22</td>\n",
       "      <td>1.00</td>\n",
       "      <td>31.37</td>\n",
       "      <td>NaN</td>\n",
       "      <td>NaN</td>\n",
       "      <td>NaN</td>\n",
       "      <td>NaN</td>\n",
       "      <td>NaN</td>\n",
       "      <td>NaN</td>\n",
       "    </tr>\n",
       "  </tbody>\n",
       "</table>\n",
       "</div>"
      ],
      "text/plain": [
       "                       Name Platform  Year_of_Release         Genre Publisher  \\\n",
       "0                Wii Sports      Wii           2006.0        Sports  Nintendo   \n",
       "1         Super Mario Bros.      NES           1985.0      Platform  Nintendo   \n",
       "2            Mario Kart Wii      Wii           2008.0        Racing  Nintendo   \n",
       "3         Wii Sports Resort      Wii           2009.0        Sports  Nintendo   \n",
       "4  Pokemon Red/Pokemon Blue       GB           1996.0  Role-Playing  Nintendo   \n",
       "\n",
       "   NA_Sales  EU_Sales  JP_Sales  Other_Sales  Global_Sales  Critic_Score  \\\n",
       "0     41.36     28.96      3.77         8.45         82.53          76.0   \n",
       "1     29.08      3.58      6.81         0.77         40.24           NaN   \n",
       "2     15.68     12.76      3.79         3.29         35.52          82.0   \n",
       "3     15.61     10.93      3.28         2.95         32.77          80.0   \n",
       "4     11.27      8.89     10.22         1.00         31.37           NaN   \n",
       "\n",
       "   Critic_Count User_Score  User_Count Developer Rating  \n",
       "0          51.0          8       322.0  Nintendo      E  \n",
       "1           NaN        NaN         NaN       NaN    NaN  \n",
       "2          73.0        8.3       709.0  Nintendo      E  \n",
       "3          73.0          8       192.0  Nintendo      E  \n",
       "4           NaN        NaN         NaN       NaN    NaN  "
      ]
     },
     "execution_count": 272,
     "metadata": {},
     "output_type": "execute_result"
    }
   ],
   "source": [
    "import pandas as pd\n",
    "\n",
    "# Read CSV Dataset\n",
    "df_vgs = pd.read_csv('../data/video_games_sales_with_ratings.csv')\n",
    "\n",
    "# Data sample\n",
    "df_vgs.head()\n"
   ]
  },
  {
   "cell_type": "code",
   "execution_count": 273,
   "id": "b8268f52",
   "metadata": {},
   "outputs": [],
   "source": [
    "# Make all column names lowercase\n",
    "df_vgs.columns = df_vgs.columns.str.lower()\n"
   ]
  },
  {
   "cell_type": "code",
   "execution_count": 274,
   "id": "cd94b99f",
   "metadata": {},
   "outputs": [],
   "source": [
    "# Define the mapping for the descriptive display name (Title Case)\n",
    "platform_display_map = {\n",
    "    'Wii': 'Wii',\n",
    "    'NES': 'Nintendo Entertainment System',\n",
    "    'GB': 'Game Boy',\n",
    "    'DS': 'Nintendo DS',\n",
    "    'X360': 'Xbox 360',\n",
    "    'PS3': 'PlayStation 3',\n",
    "    'PS2': 'PlayStation 2',\n",
    "    'SNES': 'Super Nintendo Entertainment System',\n",
    "    'GBA': 'Game Boy Advance',\n",
    "    'PS4': 'PlayStation 4',\n",
    "    '3DS': 'Nintendo 3DS',\n",
    "    'N64': 'Nintendo 64',\n",
    "    'PS': 'PlayStation',\n",
    "    'XB': 'Xbox',\n",
    "    'PC': 'PC',\n",
    "    '2600': 'Atari 2600',\n",
    "    'PSP': 'PlayStation Portable',\n",
    "    'XOne': 'Xbox One',\n",
    "    'WiiU': 'Wii U',\n",
    "    'GC': 'GameCube',\n",
    "    'GEN': 'Sega Genesis',\n",
    "    'DC': 'Dreamcast',\n",
    "    'PSV': 'PlayStation Vita',\n",
    "    'SAT': 'Sega Saturn',\n",
    "    'SCD': 'Sega CD',\n",
    "    'WS': 'WonderSwan',\n",
    "    'NG': 'Neo Geo',\n",
    "    'TG16': 'TurboGrafx-16',\n",
    "    '3DO': '3DO',\n",
    "    'GG': 'Sega Game Gear',\n",
    "    'PCFX': 'PC-FX'\n",
    "}\n"
   ]
  },
  {
   "cell_type": "code",
   "execution_count": 275,
   "id": "b3dbe5f5",
   "metadata": {},
   "outputs": [],
   "source": [
    "# Map the original 'platform' column to the new display names\n",
    "df_vgs['platform_display_name'] = df_vgs['platform'].map(platform_display_map)\n"
   ]
  },
  {
   "cell_type": "code",
   "execution_count": 276,
   "id": "112bb5b6",
   "metadata": {},
   "outputs": [
    {
     "data": {
      "text/html": [
       "<div>\n",
       "<style scoped>\n",
       "    .dataframe tbody tr th:only-of-type {\n",
       "        vertical-align: middle;\n",
       "    }\n",
       "\n",
       "    .dataframe tbody tr th {\n",
       "        vertical-align: top;\n",
       "    }\n",
       "\n",
       "    .dataframe thead th {\n",
       "        text-align: right;\n",
       "    }\n",
       "</style>\n",
       "<table border=\"1\" class=\"dataframe\">\n",
       "  <thead>\n",
       "    <tr style=\"text-align: right;\">\n",
       "      <th></th>\n",
       "      <th>name</th>\n",
       "      <th>platform</th>\n",
       "      <th>year_of_release</th>\n",
       "      <th>genre</th>\n",
       "      <th>publisher</th>\n",
       "      <th>na_sales</th>\n",
       "      <th>eu_sales</th>\n",
       "      <th>jp_sales</th>\n",
       "      <th>other_sales</th>\n",
       "      <th>global_sales</th>\n",
       "      <th>critic_score</th>\n",
       "      <th>critic_count</th>\n",
       "      <th>user_score</th>\n",
       "      <th>user_count</th>\n",
       "      <th>developer</th>\n",
       "      <th>rating</th>\n",
       "      <th>platform_display_name</th>\n",
       "    </tr>\n",
       "  </thead>\n",
       "  <tbody>\n",
       "    <tr>\n",
       "      <th>0</th>\n",
       "      <td>Wii Sports</td>\n",
       "      <td>Wii</td>\n",
       "      <td>2006.0</td>\n",
       "      <td>Sports</td>\n",
       "      <td>Nintendo</td>\n",
       "      <td>41.36</td>\n",
       "      <td>28.96</td>\n",
       "      <td>3.77</td>\n",
       "      <td>8.45</td>\n",
       "      <td>82.53</td>\n",
       "      <td>76.0</td>\n",
       "      <td>51.0</td>\n",
       "      <td>8</td>\n",
       "      <td>322.0</td>\n",
       "      <td>Nintendo</td>\n",
       "      <td>E</td>\n",
       "      <td>Wii</td>\n",
       "    </tr>\n",
       "    <tr>\n",
       "      <th>1</th>\n",
       "      <td>Super Mario Bros.</td>\n",
       "      <td>NES</td>\n",
       "      <td>1985.0</td>\n",
       "      <td>Platform</td>\n",
       "      <td>Nintendo</td>\n",
       "      <td>29.08</td>\n",
       "      <td>3.58</td>\n",
       "      <td>6.81</td>\n",
       "      <td>0.77</td>\n",
       "      <td>40.24</td>\n",
       "      <td>NaN</td>\n",
       "      <td>NaN</td>\n",
       "      <td>NaN</td>\n",
       "      <td>NaN</td>\n",
       "      <td>NaN</td>\n",
       "      <td>NaN</td>\n",
       "      <td>Nintendo Entertainment System</td>\n",
       "    </tr>\n",
       "    <tr>\n",
       "      <th>2</th>\n",
       "      <td>Mario Kart Wii</td>\n",
       "      <td>Wii</td>\n",
       "      <td>2008.0</td>\n",
       "      <td>Racing</td>\n",
       "      <td>Nintendo</td>\n",
       "      <td>15.68</td>\n",
       "      <td>12.76</td>\n",
       "      <td>3.79</td>\n",
       "      <td>3.29</td>\n",
       "      <td>35.52</td>\n",
       "      <td>82.0</td>\n",
       "      <td>73.0</td>\n",
       "      <td>8.3</td>\n",
       "      <td>709.0</td>\n",
       "      <td>Nintendo</td>\n",
       "      <td>E</td>\n",
       "      <td>Wii</td>\n",
       "    </tr>\n",
       "    <tr>\n",
       "      <th>3</th>\n",
       "      <td>Wii Sports Resort</td>\n",
       "      <td>Wii</td>\n",
       "      <td>2009.0</td>\n",
       "      <td>Sports</td>\n",
       "      <td>Nintendo</td>\n",
       "      <td>15.61</td>\n",
       "      <td>10.93</td>\n",
       "      <td>3.28</td>\n",
       "      <td>2.95</td>\n",
       "      <td>32.77</td>\n",
       "      <td>80.0</td>\n",
       "      <td>73.0</td>\n",
       "      <td>8</td>\n",
       "      <td>192.0</td>\n",
       "      <td>Nintendo</td>\n",
       "      <td>E</td>\n",
       "      <td>Wii</td>\n",
       "    </tr>\n",
       "    <tr>\n",
       "      <th>4</th>\n",
       "      <td>Pokemon Red/Pokemon Blue</td>\n",
       "      <td>GB</td>\n",
       "      <td>1996.0</td>\n",
       "      <td>Role-Playing</td>\n",
       "      <td>Nintendo</td>\n",
       "      <td>11.27</td>\n",
       "      <td>8.89</td>\n",
       "      <td>10.22</td>\n",
       "      <td>1.00</td>\n",
       "      <td>31.37</td>\n",
       "      <td>NaN</td>\n",
       "      <td>NaN</td>\n",
       "      <td>NaN</td>\n",
       "      <td>NaN</td>\n",
       "      <td>NaN</td>\n",
       "      <td>NaN</td>\n",
       "      <td>Game Boy</td>\n",
       "    </tr>\n",
       "  </tbody>\n",
       "</table>\n",
       "</div>"
      ],
      "text/plain": [
       "                       name platform  year_of_release         genre publisher  \\\n",
       "0                Wii Sports      Wii           2006.0        Sports  Nintendo   \n",
       "1         Super Mario Bros.      NES           1985.0      Platform  Nintendo   \n",
       "2            Mario Kart Wii      Wii           2008.0        Racing  Nintendo   \n",
       "3         Wii Sports Resort      Wii           2009.0        Sports  Nintendo   \n",
       "4  Pokemon Red/Pokemon Blue       GB           1996.0  Role-Playing  Nintendo   \n",
       "\n",
       "   na_sales  eu_sales  jp_sales  other_sales  global_sales  critic_score  \\\n",
       "0     41.36     28.96      3.77         8.45         82.53          76.0   \n",
       "1     29.08      3.58      6.81         0.77         40.24           NaN   \n",
       "2     15.68     12.76      3.79         3.29         35.52          82.0   \n",
       "3     15.61     10.93      3.28         2.95         32.77          80.0   \n",
       "4     11.27      8.89     10.22         1.00         31.37           NaN   \n",
       "\n",
       "   critic_count user_score  user_count developer rating  \\\n",
       "0          51.0          8       322.0  Nintendo      E   \n",
       "1           NaN        NaN         NaN       NaN    NaN   \n",
       "2          73.0        8.3       709.0  Nintendo      E   \n",
       "3          73.0          8       192.0  Nintendo      E   \n",
       "4           NaN        NaN         NaN       NaN    NaN   \n",
       "\n",
       "           platform_display_name  \n",
       "0                            Wii  \n",
       "1  Nintendo Entertainment System  \n",
       "2                            Wii  \n",
       "3                            Wii  \n",
       "4                       Game Boy  "
      ]
     },
     "execution_count": 276,
     "metadata": {},
     "output_type": "execute_result"
    }
   ],
   "source": [
    "# Data sample\n",
    "df_vgs.head()\n"
   ]
  },
  {
   "cell_type": "markdown",
   "id": "b79979a9",
   "metadata": {},
   "source": [
    "### Populate Data Vault 2.0 Tables - Video Game Dataset:"
   ]
  },
  {
   "cell_type": "code",
   "execution_count": 277,
   "id": "b9ba06b2",
   "metadata": {},
   "outputs": [],
   "source": [
    "import hashlib\n",
    "from datetime import datetime\n",
    "import psycopg2\n",
    "\n",
    "# Define a function to generate HK from BK using MD5 hash, handling NaN (NULL)\n",
    "def generate_hk(value: str) -> str:\n",
    "    return hashlib.md5(value.encode('utf-8')).hexdigest()\n"
   ]
  },
  {
   "cell_type": "code",
   "execution_count": 278,
   "id": "3494c8fe",
   "metadata": {},
   "outputs": [
    {
     "name": "stdout",
     "output_type": "stream",
     "text": [
      "'name' missing: 2\n",
      "'platform' missing: 0\n",
      "'publisher' missing: 54\n",
      "'developer' missing: 6623\n"
     ]
    }
   ],
   "source": [
    "# Check BK missing values (NaN, NULL)\n",
    "print(f\"'name' missing: {df_vgs['name'].isna().sum()}\")\n",
    "print(f\"'platform' missing: {df_vgs['platform_display_name'].isna().sum()}\")\n",
    "print(f\"'publisher' missing: {df_vgs['publisher'].isna().sum()}\")\n",
    "print(f\"'developer' missing: {df_vgs['developer'].isna().sum()}\")"
   ]
  },
  {
   "cell_type": "code",
   "execution_count": 279,
   "id": "7a43d063",
   "metadata": {},
   "outputs": [],
   "source": [
    "# First replace 'Unknown' string with None in both columns, that later i can fill\n",
    "# all missing values with 'Unknown {row_index}'\n",
    "df_vgs['publisher'] = df_vgs['publisher'].replace('Unknown', None)\n",
    "df_vgs['developer'] = df_vgs['developer'].replace('Unknown', None)\n"
   ]
  },
  {
   "cell_type": "code",
   "execution_count": 280,
   "id": "f74bbb23",
   "metadata": {},
   "outputs": [],
   "source": [
    "# Fill missing values with 'Unknown {row_index}'\n",
    "# 'name'\n",
    "df_vgs['name'] = df_vgs.apply(\n",
    "    lambda row: row['name'] if pd.notna(row['name']) else f'Unknown Game {row.name}',\n",
    "    axis=1\n",
    ")\n",
    "\n",
    "# 'developer'\n",
    "df_vgs['developer'] = df_vgs.apply(\n",
    "    lambda row: row['developer'] if pd.notna(row['developer']) else f'Unknown Developer {row.name}',\n",
    "    axis=1\n",
    ")\n",
    "\n",
    "# 'publisher'\n",
    "df_vgs['publisher'] = df_vgs.apply(\n",
    "    lambda row: row['publisher'] if pd.notna(row['publisher']) else f'Unknown Publisher {row.name}',\n",
    "    axis=1\n",
    ")\n"
   ]
  },
  {
   "cell_type": "code",
   "execution_count": 281,
   "id": "30a9a47a",
   "metadata": {},
   "outputs": [
    {
     "name": "stdout",
     "output_type": "stream",
     "text": [
      "developer has 522 rows with multiple values\n",
      "publisher has 14 rows with multiple values\n",
      "platform has 0 rows with multiple values\n"
     ]
    }
   ],
   "source": [
    "# Check which columns have multiple values separated by a comma,\n",
    "# so we can later split them into separate rows for Data Vault hubs and links\n",
    "def has_multiple_values(cell):\n",
    "    return ',' in str(cell)\n",
    "\n",
    "for col in ['developer', 'publisher', 'platform']:\n",
    "    multi_count = df_vgs[col].apply(has_multiple_values).sum()\n",
    "    print(f\"{col} has {multi_count} rows with multiple values\")\n"
   ]
  },
  {
   "cell_type": "code",
   "execution_count": 282,
   "id": "c180e375",
   "metadata": {},
   "outputs": [],
   "source": [
    "# Columns to split\n",
    "split_cols = ['developer', 'publisher']\n",
    "\n",
    "# Function to split a column by comma and explode into separate rows\n",
    "def split_column(df, column):\n",
    "    df[column] = df[column].str.split(',')  # split by comma\n",
    "    df = df.explode(column)                 # create a new row for each value\n",
    "    df[column] = df[column].str.strip()     # remove extra spaces\n",
    "    return df\n",
    "\n",
    "# Apply the splitting for both developer and publisher\n",
    "for col in split_cols:\n",
    "    df_vgs = split_column(df_vgs, col)\n"
   ]
  },
  {
   "cell_type": "code",
   "execution_count": 283,
   "id": "85163d2e",
   "metadata": {},
   "outputs": [
    {
     "name": "stdout",
     "output_type": "stream",
     "text": [
      "developer has 0 rows with multiple values\n",
      "publisher has 0 rows with multiple values\n"
     ]
    }
   ],
   "source": [
    "# Check again if it worked\n",
    "for col in split_cols:\n",
    "    multi_count = df_vgs[col].apply(has_multiple_values).sum()\n",
    "    print(f\"{col} has {multi_count} rows with multiple values\")\n"
   ]
  },
  {
   "cell_type": "code",
   "execution_count": 284,
   "id": "edcf121f",
   "metadata": {},
   "outputs": [],
   "source": [
    "# Generate Hub Keys for Game, Platform, Developer, Publisher\n",
    "df_vgs['game_hk'] = df_vgs['name'].apply(generate_hk)\n",
    "df_vgs['platform_hk'] = df_vgs['platform_display_name'].apply(generate_hk)\n",
    "df_vgs['developer_hk'] = df_vgs['developer'].apply(generate_hk)\n",
    "df_vgs['publisher_hk'] = df_vgs['publisher'].apply(generate_hk)\n"
   ]
  },
  {
   "cell_type": "code",
   "execution_count": 285,
   "id": "1aa9ef89",
   "metadata": {},
   "outputs": [],
   "source": [
    "# Add load_date and record_source\n",
    "load_date = datetime.now()\n",
    "record_source = 'Video Games Sales'\n",
    "\n",
    "for col in ['load_date', 'record_source']:\n",
    "    df_vgs[col] = load_date if col == 'load_date' else record_source\n"
   ]
  },
  {
   "cell_type": "code",
   "execution_count": 286,
   "id": "672967b4",
   "metadata": {},
   "outputs": [],
   "source": [
    "# Prepare Hub tables and drop duplicates\n",
    "hub_game = df_vgs[['game_hk', 'name', 'load_date', 'record_source']].drop_duplicates()\n",
    "hub_game.columns = ['game_hk', 'game_name', 'load_date', 'record_source']\n",
    "\n",
    "hub_platform = df_vgs[['platform_hk', 'platform_display_name', 'load_date', 'record_source']].drop_duplicates()\n",
    "hub_platform.columns = ['platform_hk', 'platform_name', 'load_date', 'record_source']\n",
    "\n",
    "hub_developer = df_vgs[['developer_hk', 'developer', 'load_date', 'record_source']].drop_duplicates()\n",
    "hub_developer.columns = ['developer_hk', 'developer_name', 'load_date', 'record_source']\n",
    "\n",
    "hub_publisher = df_vgs[['publisher_hk', 'publisher', 'load_date', 'record_source']].drop_duplicates()\n",
    "hub_publisher.columns = ['publisher_hk', 'publisher_name', 'load_date', 'record_source']\n"
   ]
  },
  {
   "cell_type": "code",
   "execution_count": 287,
   "id": "d885b014",
   "metadata": {},
   "outputs": [],
   "source": [
    "# Prepare Satellite tables\n",
    "sat_game_details = df_vgs[['game_hk', 'year_of_release', 'genre', 'rating', 'load_date', 'record_source']].copy()\n",
    "sat_game_details.columns = ['game_hk', 'year_of_release', 'genre', 'rating', 'load_date', 'record_source']\n",
    "\n",
    "sat_game_sales = df_vgs[['game_hk', 'na_sales', 'eu_sales', 'jp_sales', 'other_sales', 'global_sales', 'load_date', 'record_source']].copy()\n",
    "sat_game_sales.columns = ['game_hk', 'na_sales', 'eu_sales', 'jp_sales', 'other_sales', 'global_sales', 'load_date', 'record_source']\n",
    "\n",
    "sat_game_scores = df_vgs[['game_hk', 'critic_score', 'critic_count', 'user_score', 'user_count', 'load_date', 'record_source']].copy()\n",
    "sat_game_scores.columns = ['game_hk', 'critic_score', 'critic_count', 'user_score', 'user_count', 'load_date', 'record_source']\n"
   ]
  },
  {
   "cell_type": "code",
   "execution_count": 288,
   "id": "028fb510",
   "metadata": {},
   "outputs": [],
   "source": [
    "# Define another function to generate HK (hash key) for Link tables by combining two BKs;\n",
    "# Returns None (NULL in DB) if either key is missing\n",
    "def generate_link_hk(key1, key2):\n",
    "    return generate_hk(str(key1) + str(key2))  # concatenate as strings, then hash\n"
   ]
  },
  {
   "cell_type": "code",
   "execution_count": 289,
   "id": "65cb4177",
   "metadata": {},
   "outputs": [],
   "source": [
    "# Prepare Link tables, drop duplicates\n",
    "link_game_platform = df_vgs[['game_hk', 'platform_hk', 'load_date', 'record_source']].drop_duplicates()\n",
    "link_game_platform['link_game_platform_hk'] = link_game_platform.apply(lambda x: generate_link_hk(x['game_hk'], x['platform_hk']), axis=1)\n",
    "link_game_platform = link_game_platform[['link_game_platform_hk', 'game_hk', 'platform_hk', 'load_date', 'record_source']]\n",
    "\n",
    "link_game_developer = df_vgs[['game_hk', 'developer_hk', 'load_date', 'record_source']].drop_duplicates()\n",
    "link_game_developer['link_game_developer_hk'] = link_game_developer.apply(lambda x: generate_link_hk(x['game_hk'], x['developer_hk']), axis=1)\n",
    "link_game_developer = link_game_developer[['link_game_developer_hk', 'game_hk', 'developer_hk', 'load_date', 'record_source']]\n",
    "\n",
    "link_game_publisher = df_vgs[['game_hk', 'publisher_hk', 'load_date', 'record_source']].drop_duplicates()\n",
    "link_game_publisher['link_game_publisher_hk'] = link_game_publisher.apply(lambda x: generate_link_hk(x['game_hk'], x['publisher_hk']), axis=1)\n",
    "link_game_publisher = link_game_publisher[['link_game_publisher_hk', 'game_hk', 'publisher_hk', 'load_date', 'record_source']]\n"
   ]
  },
  {
   "cell_type": "code",
   "execution_count": 290,
   "id": "0a842bd0",
   "metadata": {},
   "outputs": [],
   "source": [
    "# Connect to PostgreSQL (I'm using my local DB as an example, no need to hide login info)\n",
    "conn = psycopg2.connect(\n",
    "    host=\"localhost\",\n",
    "    database=\"postgres\",\n",
    "    user=\"admin\",\n",
    "    password=\"admin\"\n",
    ")\n",
    "cursor = conn.cursor()"
   ]
  },
  {
   "cell_type": "code",
   "execution_count": 291,
   "id": "114e0db4",
   "metadata": {},
   "outputs": [],
   "source": [
    "# Define a function to insert a dataframe into a table\n",
    "def insert_dataframe(df, table_name):\n",
    "    df_clean = df.replace({np.nan: None})\n",
    "    \n",
    "    cols = ','.join(df_clean.columns)\n",
    "    vals = ','.join(['%s'] * len(df_clean.columns))\n",
    "    query = f\"INSERT INTO {table_name} ({cols}) VALUES ({vals}) ON CONFLICT DO NOTHING;\"\n",
    "    \n",
    "    for row in df_clean.values.tolist():\n",
    "        cursor.execute(query, tuple(row))\n",
    "    \n",
    "    conn.commit()\n",
    "    print(f\"{len(df_clean)} rows inserted into {table_name}\")"
   ]
  },
  {
   "cell_type": "code",
   "execution_count": 292,
   "id": "44ebcd27",
   "metadata": {},
   "outputs": [
    {
     "name": "stdout",
     "output_type": "stream",
     "text": [
      "11564 rows inserted into hub_game\n",
      "31 rows inserted into hub_platform\n",
      "8159 rows inserted into hub_developer\n",
      "836 rows inserted into hub_publisher\n"
     ]
    }
   ],
   "source": [
    "# Insert data into hubs\n",
    "insert_dataframe(hub_game, 'hub_game')\n",
    "insert_dataframe(hub_platform, 'hub_platform')\n",
    "insert_dataframe(hub_developer, 'hub_developer')\n",
    "insert_dataframe(hub_publisher, 'hub_publisher')"
   ]
  },
  {
   "cell_type": "code",
   "execution_count": 293,
   "id": "672eea98",
   "metadata": {},
   "outputs": [],
   "source": [
    "import numpy as np\n",
    "\n",
    "# Convert year_of_release NaNs to None for database insertion (SMALLINT restriction in DB)\n",
    "sat_game_details['year_of_release'] = sat_game_details['year_of_release'].replace({np.nan: None})\n"
   ]
  },
  {
   "cell_type": "code",
   "execution_count": 294,
   "id": "ea866db6",
   "metadata": {},
   "outputs": [],
   "source": [
    "# Replace 'tbd' and other non-numeric values with None\n",
    "for col in ['user_score', 'critic_score', 'critic_count', 'user_count']:\n",
    "    if col in sat_game_scores.columns:\n",
    "        sat_game_scores[col] = pd.to_numeric(sat_game_scores[col], errors='coerce')\n"
   ]
  },
  {
   "cell_type": "code",
   "execution_count": 295,
   "id": "17ac13fc",
   "metadata": {},
   "outputs": [
    {
     "name": "stdout",
     "output_type": "stream",
     "text": [
      "17278 rows inserted into sat_game_details\n",
      "17278 rows inserted into sat_game_sales\n",
      "10087 rows inserted into sat_game_scores\n"
     ]
    }
   ],
   "source": [
    "# Insert data into satellites\n",
    "insert_dataframe(sat_game_details, 'sat_game_details')\n",
    "insert_dataframe(sat_game_sales, 'sat_game_sales')\n",
    "insert_dataframe(sat_game_scores_clean, 'sat_game_scores')\n"
   ]
  },
  {
   "cell_type": "code",
   "execution_count": 296,
   "id": "0ac5ea47",
   "metadata": {},
   "outputs": [
    {
     "name": "stdout",
     "output_type": "stream",
     "text": [
      "16715 rows inserted into link_game_platform\n",
      "13917 rows inserted into link_game_developer\n",
      "12015 rows inserted into link_game_publisher\n"
     ]
    }
   ],
   "source": [
    "# Insert data into links\n",
    "insert_dataframe(link_game_platform, 'link_game_platform')\n",
    "insert_dataframe(link_game_developer, 'link_game_developer')\n",
    "insert_dataframe(link_game_publisher, 'link_game_publisher')\n"
   ]
  },
  {
   "cell_type": "code",
   "execution_count": 297,
   "id": "e882f163",
   "metadata": {},
   "outputs": [],
   "source": [
    "# Close connection\n",
    "cursor.close()\n",
    "conn.close()\n"
   ]
  }
 ],
 "metadata": {
  "kernelspec": {
   "display_name": ".data",
   "language": "python",
   "name": "python3"
  },
  "language_info": {
   "codemirror_mode": {
    "name": "ipython",
    "version": 3
   },
   "file_extension": ".py",
   "mimetype": "text/x-python",
   "name": "python",
   "nbconvert_exporter": "python",
   "pygments_lexer": "ipython3",
   "version": "3.13.7"
  }
 },
 "nbformat": 4,
 "nbformat_minor": 5
}
